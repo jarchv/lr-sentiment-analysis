{
 "cells": [
  {
   "cell_type": "markdown",
   "metadata": {},
   "source": [
    "# Logistic Regression for Sentiment Analysis"
   ]
  },
  {
   "cell_type": "markdown",
   "metadata": {},
   "source": [
    "A logistic regression model to classify movie reviews from the 50k IMDb review dataset"
   ]
  },
  {
   "cell_type": "code",
   "execution_count": 85,
   "metadata": {},
   "outputs": [
    {
     "name": "stdout",
     "output_type": "stream",
     "text": [
      "[nltk_data] Downloading package stopwords to /home/ghost/nltk_data...\n",
      "[nltk_data]   Package stopwords is already up-to-date!\n",
      "[nltk_data] Downloading package opinion_lexicon to\n",
      "[nltk_data]     /home/ghost/nltk_data...\n",
      "[nltk_data]   Package opinion_lexicon is already up-to-date!\n",
      "[nltk_data] Downloading package wordnet to /home/ghost/nltk_data...\n",
      "[nltk_data]   Package wordnet is already up-to-date!\n"
     ]
    }
   ],
   "source": [
    "import pandas as pd\n",
    "import numpy as np\n",
    "import re\n",
    "import nltk\n",
    "import time \n",
    "import pandas\n",
    "import matplotlib.pyplot as plt\n",
    "\n",
    "nltk.download('stopwords')\n",
    "nltk.download('opinion_lexicon')\n",
    "nltk.download('wordnet')\n",
    "\n",
    "from nltk.stem.porter import PorterStemmer\n",
    "from nltk.stem import WordNetLemmatizer\n",
    "from nltk.corpus import stopwords, opinion_lexicon\n",
    "from sklearn.preprocessing import normalize\n",
    "\n",
    "from sklearn.feature_extraction.text import HashingVectorizer\n",
    "\n",
    "np.random.seed(0) "
   ]
  },
  {
   "cell_type": "markdown",
   "metadata": {},
   "source": [
    "## Preprocessing Text Data"
   ]
  },
  {
   "cell_type": "markdown",
   "metadata": {},
   "source": [
    "The last five reviews from the 50k IMBb review dataset"
   ]
  },
  {
   "cell_type": "code",
   "execution_count": 146,
   "metadata": {
    "scrolled": true
   },
   "outputs": [
    {
     "data": {
      "text/html": [
       "<div>\n",
       "<style scoped>\n",
       "    .dataframe tbody tr th:only-of-type {\n",
       "        vertical-align: middle;\n",
       "    }\n",
       "\n",
       "    .dataframe tbody tr th {\n",
       "        vertical-align: top;\n",
       "    }\n",
       "\n",
       "    .dataframe thead th {\n",
       "        text-align: right;\n",
       "    }\n",
       "</style>\n",
       "<table border=\"1\" class=\"dataframe\">\n",
       "  <thead>\n",
       "    <tr style=\"text-align: right;\">\n",
       "      <th></th>\n",
       "      <th>review</th>\n",
       "      <th>sentiment</th>\n",
       "    </tr>\n",
       "  </thead>\n",
       "  <tbody>\n",
       "    <tr>\n",
       "      <th>49995</th>\n",
       "      <td>OK, lets start with the best. the building. al...</td>\n",
       "      <td>0</td>\n",
       "    </tr>\n",
       "    <tr>\n",
       "      <th>49996</th>\n",
       "      <td>The British 'heritage film' industry is out of...</td>\n",
       "      <td>0</td>\n",
       "    </tr>\n",
       "    <tr>\n",
       "      <th>49997</th>\n",
       "      <td>I don't even know where to begin on this one. ...</td>\n",
       "      <td>0</td>\n",
       "    </tr>\n",
       "    <tr>\n",
       "      <th>49998</th>\n",
       "      <td>Richard Tyler is a little boy who is scared of...</td>\n",
       "      <td>0</td>\n",
       "    </tr>\n",
       "    <tr>\n",
       "      <th>49999</th>\n",
       "      <td>I waited long to watch this movie. Also becaus...</td>\n",
       "      <td>1</td>\n",
       "    </tr>\n",
       "  </tbody>\n",
       "</table>\n",
       "</div>"
      ],
      "text/plain": [
       "                                                  review  sentiment\n",
       "49995  OK, lets start with the best. the building. al...          0\n",
       "49996  The British 'heritage film' industry is out of...          0\n",
       "49997  I don't even know where to begin on this one. ...          0\n",
       "49998  Richard Tyler is a little boy who is scared of...          0\n",
       "49999  I waited long to watch this movie. Also becaus...          1"
      ]
     },
     "execution_count": 146,
     "metadata": {},
     "output_type": "execute_result"
    }
   ],
   "source": [
    "# if you want to download the original file:\n",
    "df = pd.read_csv('https://raw.githubusercontent.com/rasbt/pattern_classification/master/data/50k_imdb_movie_reviews.csv')\n",
    "\n",
    "# otherwise load local file\n",
    "#df = pd.read_csv('shuffled_movie_data.csv')\n",
    "#df.tail()"
   ]
  },
  {
   "cell_type": "markdown",
   "metadata": {},
   "source": [
    "Builing a dictionary with positive and negative opinions with a position on each value."
   ]
  },
  {
   "cell_type": "code",
   "execution_count": 23,
   "metadata": {},
   "outputs": [],
   "source": [
    "neg_words = opinion_lexicon.negative()\n",
    "pos_words = opinion_lexicon.positive()\n",
    "\n",
    "pos_dict = {}\n",
    "neg_dict = {}\n",
    "\n",
    "npos = len(pos_words)\n",
    "nneg = len(neg_words)\n",
    "\n",
    "for ipos, pos_word in enumerate(pos_words): pos_dict[pos_word] = ipos + 29\n",
    "for ineg, neg_word in enumerate(neg_words): neg_dict[neg_word] = ineg + npos"
   ]
  },
  {
   "cell_type": "markdown",
   "metadata": {},
   "source": [
    "Creating a list with pronouns"
   ]
  },
  {
   "cell_type": "code",
   "execution_count": 24,
   "metadata": {},
   "outputs": [],
   "source": [
    "stop     = stopwords.words('english')\n",
    "pronouns = stop[:35]\n",
    "not_pr   = stop[35:]\n",
    "\n",
    "pronouns1 = pronouns[:8]\n",
    "pronouns1.append('us')\n",
    "pronouns2 = pronouns[8:17]\n",
    "pronouns3 = pronouns[17:]\n",
    "\n",
    "not_pr.remove('no')\n",
    "not_pr.remove('not')\n",
    "not_pr.remove('nor')\n",
    "\n",
    "porter = PorterStemmer()\n",
    "wordnet_lemmatizer = WordNetLemmatizer()"
   ]
  },
  {
   "cell_type": "markdown",
   "metadata": {},
   "source": [
    "We define a tokenizer to split the text into word tokens. Also we remove HTML tags, emoticons and all words that not belong to the pronouns set. Finally with apply the Porter stemming and WordNet Lemmatizer algorithm to convert the words into their root form."
   ]
  },
  {
   "cell_type": "code",
   "execution_count": 31,
   "metadata": {},
   "outputs": [],
   "source": [
    "def tokenizer(text):\n",
    "    text      = re.sub('<[^>]*>', '', text)\n",
    "    #emoticons = re.findall('(?::|;|=|x|8|\\()(?:-|y)?(?:\\)|s|\\(|\\)|d|p|c|3|\\[|\\]|\\||\\\\\\\\|\\\\/)', text.lower())\n",
    "    text      = re.sub(    '(?::|;|=|x|8|\\()(?:-|y)?(?:\\)|s|\\(|\\)|d|p|c|3|\\[|\\]|\\||\\\\\\\\|\\\\/)', '',text.lower())\n",
    "    text      = re.sub('[\\s\\?\\[\\]\\,\\;\\.\\:\\-\\\\_\\(\\)\\\"]+', ' ', text.lower())# + ' '.join(emoticons).replace('-', '')\n",
    "    text      = [w for w in text.split() if w not in not_pr]\n",
    "    tokenized = []\n",
    "    for w in text:\n",
    "        if w in neg_dict or w in pos_dict:\n",
    "            tokenized.append(w)\n",
    "        else:\n",
    "            w_s = porter.stem(w)\n",
    "            if w_s in neg_dict or w in pos_dict:\n",
    "                tokenized.append(w_s)\n",
    "            else:\n",
    "                w_l = wordnet_lemmatizer.lemmatize(w)\n",
    "                tokenized.append(w_l)\n",
    "    return tokenized"
   ]
  },
  {
   "cell_type": "markdown",
   "metadata": {},
   "source": [
    "## Exercise 1"
   ]
  },
  {
   "cell_type": "markdown",
   "metadata": {},
   "source": [
    "We create a DocToVec class to convert all documents to a feature vector using a simple tokenizer."
   ]
  },
  {
   "cell_type": "code",
   "execution_count": 27,
   "metadata": {},
   "outputs": [],
   "source": [
    "# Excercise 1: define new features according to https://web.stanford.edu/~jurafsky/slp3/5.pdf\n",
    "\n",
    "class DocToVec:\n",
    "    \"\"\"\n",
    "        Convert a list of words to feature vectors:\n",
    "        \n",
    "        Arguments:\n",
    "            \n",
    "            n_features: number of features per vector, by default 6818.\n",
    "            fn        : tokenizer function\n",
    "    \"\"\"\n",
    "    \n",
    "    def __init__(self, n_features, fn):\n",
    "        if n_features is None:\n",
    "            self.n_features = 29\n",
    "            self.fn         = tokenizer\n",
    "        self.n_features = n_features\n",
    "        self.fn         = fn\n",
    "    def transform(self, DocList):\n",
    "        \"\"\"\n",
    "            Transform an array of list of words to a matrix:\n",
    "\n",
    "            Arguments:\n",
    "\n",
    "                DocList: Array of list of Words tokenized\n",
    "\n",
    "            Returns:\n",
    "\n",
    "                Matrix with feature vectors of each review.\n",
    "\n",
    "            feature0: Word Length\n",
    "            feature1: Expression ! count\n",
    "            feature2: Positive Words count\n",
    "            feature3: Negative Words count\n",
    "            feature4: Pronouns of 1st person count \n",
    "            feature5: Pronouns of 2nd person count \n",
    "            feature6: Pronouns of 3rd person count \n",
    "            feature7: Words like 'no' count\n",
    "            feature8: Words like 'not' count\n",
    "            feature9: Words like 'nor' or 'neither' count\n",
    "\n",
    "            feature10 - feature28: Combinations of some feature that have a good correlation\n",
    "            feature29 - end      : All Positive and Negative words \n",
    "\n",
    "        \"\"\"\n",
    "    \n",
    "        n   = len(DocList)\n",
    "        vec = np.zeros(shape=(n, self.n_features), dtype = np.float32)\n",
    "        mt  = 0.0\n",
    "        for idx, strn in enumerate(DocList):\n",
    "            st = time.time()\n",
    "            strnList = self.fn(strn)\n",
    "            vec[idx][0] = np.log(len(strnList))\n",
    "            for strn in strnList:\n",
    "                exp      = re.findall('!', strn)\n",
    "                \n",
    "                if len(exp) != 0:\n",
    "                    strn         = re.sub('!','',strn)\n",
    "                    vec[idx][1] += len(exp) \n",
    "                    \n",
    "                if strn in pos_dict:\n",
    "                    vec[idx][2] += 1 \n",
    "                    vec[idx][pos_dict[strn]] +=1\n",
    "                    \n",
    "                elif strn in neg_dict:\n",
    "                    vec[idx][3] += 1 \n",
    "                    vec[idx][neg_dict[strn]] +=1\n",
    "\n",
    "                elif strn in pronouns1:\n",
    "                    vec[idx][4] += 1  \n",
    "\n",
    "                elif strn in pronouns2:\n",
    "                    vec[idx][5] += 1 \n",
    "                \n",
    "                elif strn in pronouns3:\n",
    "                    vec[idx][6] += 1 \n",
    "                \n",
    "                elif strn == 'no':\n",
    "                    vec[idx][7] += 1\n",
    "                \n",
    "                elif strn == 'not':\n",
    "                    vec[idx][8] += 1\n",
    "                    \n",
    "                elif strn in ['nor','neither']:\n",
    "                    vec[idx][9] += 1\n",
    "                    \n",
    "                vec[idx][10] = vec[idx][2] * vec[idx][3]\n",
    "\n",
    "                vec[idx][11] = vec[idx][2] * vec[idx][4]\n",
    "                vec[idx][12] = vec[idx][2] * vec[idx][5]\n",
    "                vec[idx][13] = vec[idx][2] * vec[idx][6]\n",
    "                vec[idx][14] = vec[idx][2] * vec[idx][7]\n",
    "                vec[idx][15] = vec[idx][2] * vec[idx][8]  \n",
    "                vec[idx][16] = vec[idx][2] * vec[idx][9]  \n",
    "                \n",
    "                vec[idx][17] = vec[idx][3] * vec[idx][4]\n",
    "                vec[idx][18] = vec[idx][3] * vec[idx][5]\n",
    "                vec[idx][19] = vec[idx][3] * vec[idx][6]\n",
    "                vec[idx][20] = vec[idx][3] * vec[idx][7]\n",
    "                vec[idx][21] = vec[idx][3] * vec[idx][8]  \n",
    "                vec[idx][22] = vec[idx][3] * vec[idx][9]  \n",
    "                \n",
    "            vec[idx][23] = vec[idx][2]**2\n",
    "            vec[idx][24] = vec[idx][3]**2\n",
    "            vec[idx][25] = vec[idx][2]**3\n",
    "            vec[idx][26] = vec[idx][3]**3\n",
    "            vec[idx][27] = np.sqrt(vec[idx][2])\n",
    "            vec[idx][28] = np.sqrt(vec[idx][3])\n",
    "            dt = time.time() - st\n",
    "            mt+= dt\n",
    "            ln = 36*(idx + 1)\n",
    "            \n",
    "            if ((idx+1) % 500 == 0):\n",
    "                print('percent = {:4.1f}%, time estimated : {:3.1f} min'.format(100*(idx+1)/n, mt*n/ln))\n",
    "        return vec        "
   ]
  },
  {
   "cell_type": "markdown",
   "metadata": {},
   "source": [
    "These functions below were not used here"
   ]
  },
  {
   "cell_type": "code",
   "execution_count": 28,
   "metadata": {},
   "outputs": [],
   "source": [
    "def stream_docs(path):\n",
    "    with open(path, 'r') as csv:\n",
    "        next(csv) # skip header\n",
    "        for line in csv:\n",
    "            text, label = line[:-3], int(line[-2])\n",
    "            yield text, label    "
   ]
  },
  {
   "cell_type": "code",
   "execution_count": 29,
   "metadata": {},
   "outputs": [],
   "source": [
    "def get_minibatch(doc_stream, size):\n",
    "    docs, y = [], []\n",
    "    \n",
    "    try:\n",
    "        for _ in range(size):\n",
    "            text, label = next(doc_stream)\n",
    "            docs.append(text)\n",
    "            y.append(label)\n",
    "            \n",
    "    except StopIteration:\n",
    "        return None, None\n",
    "    \n",
    "    return docs, y"
   ]
  },
  {
   "cell_type": "markdown",
   "metadata": {},
   "source": [
    "## Exercise 2"
   ]
  },
  {
   "cell_type": "code",
   "execution_count": 32,
   "metadata": {},
   "outputs": [
    {
     "data": {
      "text/plain": [
       "(1, 6818)"
      ]
     },
     "execution_count": 32,
     "metadata": {},
     "output_type": "execute_result"
    }
   ],
   "source": [
    "## Exercise 2: implement a Logistic Regression classifier, using regularization\n",
    "\n",
    "FEATURES = 29 + npos + nneg\n",
    "vect = DocToVec(n_features = FEATURES, fn = tokenizer)\n",
    "\n",
    "vect.transform([df.head().values[0][0]]).shape"
   ]
  },
  {
   "cell_type": "code",
   "execution_count": 33,
   "metadata": {},
   "outputs": [
    {
     "name": "stdout",
     "output_type": "stream",
     "text": [
      "percent =  1.0%, time estimated : 6.5 min\n",
      "percent =  2.0%, time estimated : 6.3 min\n",
      "percent =  3.0%, time estimated : 6.3 min\n",
      "percent =  4.0%, time estimated : 6.2 min\n",
      "percent =  5.0%, time estimated : 6.2 min\n",
      "percent =  6.0%, time estimated : 6.3 min\n",
      "percent =  7.0%, time estimated : 6.3 min\n",
      "percent =  8.0%, time estimated : 6.4 min\n",
      "percent =  9.0%, time estimated : 6.4 min\n",
      "percent = 10.0%, time estimated : 6.4 min\n",
      "percent = 11.0%, time estimated : 6.4 min\n",
      "percent = 12.0%, time estimated : 6.4 min\n",
      "percent = 13.0%, time estimated : 6.5 min\n",
      "percent = 14.0%, time estimated : 6.5 min\n",
      "percent = 15.0%, time estimated : 6.5 min\n",
      "percent = 16.0%, time estimated : 6.4 min\n",
      "percent = 17.0%, time estimated : 6.5 min\n",
      "percent = 18.0%, time estimated : 6.4 min\n",
      "percent = 19.0%, time estimated : 6.5 min\n",
      "percent = 20.0%, time estimated : 6.5 min\n",
      "percent = 21.0%, time estimated : 6.5 min\n",
      "percent = 22.0%, time estimated : 6.5 min\n",
      "percent = 23.0%, time estimated : 6.5 min\n",
      "percent = 24.0%, time estimated : 6.5 min\n",
      "percent = 25.0%, time estimated : 6.5 min\n",
      "percent = 26.0%, time estimated : 6.4 min\n",
      "percent = 27.0%, time estimated : 6.4 min\n",
      "percent = 28.0%, time estimated : 6.5 min\n",
      "percent = 29.0%, time estimated : 6.4 min\n",
      "percent = 30.0%, time estimated : 6.5 min\n",
      "percent = 31.0%, time estimated : 6.5 min\n",
      "percent = 32.0%, time estimated : 6.5 min\n",
      "percent = 33.0%, time estimated : 6.5 min\n",
      "percent = 34.0%, time estimated : 6.4 min\n",
      "percent = 35.0%, time estimated : 6.4 min\n",
      "percent = 36.0%, time estimated : 6.4 min\n",
      "percent = 37.0%, time estimated : 6.4 min\n",
      "percent = 38.0%, time estimated : 6.4 min\n",
      "percent = 39.0%, time estimated : 6.4 min\n",
      "percent = 40.0%, time estimated : 6.4 min\n",
      "percent = 41.0%, time estimated : 6.4 min\n",
      "percent = 42.0%, time estimated : 6.4 min\n",
      "percent = 43.0%, time estimated : 6.4 min\n",
      "percent = 44.0%, time estimated : 6.4 min\n",
      "percent = 45.0%, time estimated : 6.4 min\n",
      "percent = 46.0%, time estimated : 6.4 min\n",
      "percent = 47.0%, time estimated : 6.4 min\n",
      "percent = 48.0%, time estimated : 6.4 min\n",
      "percent = 49.0%, time estimated : 6.4 min\n",
      "percent = 50.0%, time estimated : 6.4 min\n",
      "percent = 51.0%, time estimated : 6.4 min\n",
      "percent = 52.0%, time estimated : 6.4 min\n",
      "percent = 53.0%, time estimated : 6.3 min\n",
      "percent = 54.0%, time estimated : 6.3 min\n",
      "percent = 55.0%, time estimated : 6.3 min\n",
      "percent = 56.0%, time estimated : 6.3 min\n",
      "percent = 57.0%, time estimated : 6.3 min\n",
      "percent = 58.0%, time estimated : 6.3 min\n",
      "percent = 59.0%, time estimated : 6.3 min\n",
      "percent = 60.0%, time estimated : 6.3 min\n",
      "percent = 61.0%, time estimated : 6.3 min\n",
      "percent = 62.0%, time estimated : 6.3 min\n",
      "percent = 63.0%, time estimated : 6.3 min\n",
      "percent = 64.0%, time estimated : 6.3 min\n",
      "percent = 65.0%, time estimated : 6.3 min\n",
      "percent = 66.0%, time estimated : 6.3 min\n",
      "percent = 67.0%, time estimated : 6.3 min\n",
      "percent = 68.0%, time estimated : 6.3 min\n",
      "percent = 69.0%, time estimated : 6.3 min\n",
      "percent = 70.0%, time estimated : 6.3 min\n",
      "percent = 71.0%, time estimated : 6.3 min\n",
      "percent = 72.0%, time estimated : 6.3 min\n",
      "percent = 73.0%, time estimated : 6.3 min\n",
      "percent = 74.0%, time estimated : 6.3 min\n",
      "percent = 75.0%, time estimated : 6.3 min\n",
      "percent = 76.0%, time estimated : 6.3 min\n",
      "percent = 77.0%, time estimated : 6.3 min\n",
      "percent = 78.0%, time estimated : 6.3 min\n",
      "percent = 79.0%, time estimated : 6.3 min\n",
      "percent = 80.0%, time estimated : 6.3 min\n",
      "percent = 81.0%, time estimated : 6.3 min\n",
      "percent = 82.0%, time estimated : 6.3 min\n",
      "percent = 83.0%, time estimated : 6.3 min\n",
      "percent = 84.0%, time estimated : 6.3 min\n",
      "percent = 85.0%, time estimated : 6.3 min\n",
      "percent = 86.0%, time estimated : 6.3 min\n",
      "percent = 87.0%, time estimated : 6.3 min\n",
      "percent = 88.0%, time estimated : 6.3 min\n",
      "percent = 89.0%, time estimated : 6.3 min\n",
      "percent = 90.0%, time estimated : 6.3 min\n",
      "percent = 91.0%, time estimated : 6.3 min\n",
      "percent = 92.0%, time estimated : 6.3 min\n",
      "percent = 93.0%, time estimated : 6.3 min\n",
      "percent = 94.0%, time estimated : 6.3 min\n",
      "percent = 95.0%, time estimated : 6.3 min\n",
      "percent = 96.0%, time estimated : 6.3 min\n",
      "percent = 97.0%, time estimated : 6.3 min\n",
      "percent = 98.0%, time estimated : 6.3 min\n",
      "percent = 99.0%, time estimated : 6.3 min\n",
      "percent = 100.0%, time estimated : 6.3 min\n"
     ]
    }
   ],
   "source": [
    "## Uncomment these lines if you don't save 'vec_data_X' and 'vec_data_y':\n",
    "#stream = stream_docs(path='shuffled_movie_data.csv')\n",
    "\n",
    "#X_train, y_train = get_minibatch(stream, size=50000)\n",
    "#y_train = np.asarray(y_train).reshape((-1, 1))\n",
    "\n",
    "#X_train = vect.transform(X_train)\n",
    "\n",
    "\n",
    "#np.save('vec_data_X', X_train)\n",
    "#np.save('vec_data_y', y_train)"
   ]
  },
  {
   "cell_type": "markdown",
   "metadata": {},
   "source": [
    "## Exercise 2: implement a Logistic Regression classifier, using regularization"
   ]
  },
  {
   "cell_type": "code",
   "execution_count": 77,
   "metadata": {},
   "outputs": [
    {
     "name": "stdout",
     "output_type": "stream",
     "text": [
      "(50000, 6818)\n",
      "(50000, 1)\n"
     ]
    }
   ],
   "source": [
    "X_data_r = normalize(np.load('vec_data_X.npy'), axis=0)\n",
    "y_data_r = np.load('vec_data_y.npy')\n",
    "\n",
    "print(X_data_r.shape)\n",
    "print(y_data_r.shape)"
   ]
  },
  {
   "cell_type": "markdown",
   "metadata": {},
   "source": [
    "## Correlation Matrix"
   ]
  },
  {
   "cell_type": "markdown",
   "metadata": {},
   "source": [
    "This matrix was used to analyze the depence of the fist 29 features"
   ]
  },
  {
   "cell_type": "code",
   "execution_count": 145,
   "metadata": {},
   "outputs": [
    {
     "data": {
      "text/plain": [
       "Sentiment            1.000000\n",
       "negative_words_sq    0.262000\n",
       "positive_words_sq    0.240814\n",
       "positive_words       0.215540\n",
       "negative_words       0.202704\n",
       "positive_words_2     0.154980\n",
       "no_count             0.145020\n",
       "neg_no               0.115678\n",
       "neg_pronoun1st       0.114882\n",
       "negative_words_2     0.111461\n",
       "positive_words_3     0.104312\n",
       "pos_pronoun3rd       0.097815\n",
       "neg_pronoun2nd       0.096464\n",
       "neg_not              0.072669\n",
       "negative_words_3     0.059024\n",
       "pos_pronoun1st       0.057097\n",
       "not_count            0.053531\n",
       "pos_not              0.048239\n",
       "nor_neither          0.045743\n",
       "pronouns3rd          0.044137\n",
       "neg_nor_neither      0.041784\n",
       "neg_pronoun3rd       0.039385\n",
       "pos_pronoun2nd       0.033474\n",
       "pronouns2nd          0.032456\n",
       "pos_no               0.031445\n",
       "pronouns1st          0.030960\n",
       "count_!              0.013676\n",
       "pos_nor_neither      0.012461\n",
       "pos_neg              0.005168\n",
       "wordCount_log        0.001938\n",
       "Name: Sentiment, dtype: float64"
      ]
     },
     "execution_count": 145,
     "metadata": {},
     "output_type": "execute_result"
    }
   ],
   "source": [
    "dfVec = pd.DataFrame({'Sentiment': y_data_r[:,0]})\n",
    "\n",
    "dfVec['wordCount_log' ]    = X_data_r[:,0 ]\n",
    "dfVec['count_!'       ]    = X_data_r[:,1 ]\n",
    "dfVec['positive_words']    = X_data_r[:,2 ]\n",
    "dfVec['negative_words']    = X_data_r[:,3 ]\n",
    "dfVec['pronouns1st'   ]    = X_data_r[:,4 ]\n",
    "dfVec['pronouns2nd'   ]    = X_data_r[:,5 ]\n",
    "dfVec['pronouns3rd'   ]    = X_data_r[:,6 ]\n",
    "dfVec['no_count'      ]    = X_data_r[:,7 ]\n",
    "dfVec['not_count'     ]    = X_data_r[:,8 ]\n",
    "dfVec['nor_neither'   ]    = X_data_r[:,9 ]\n",
    "\n",
    "dfVec['pos_neg'       ]    = X_data_r[:,10]\n",
    "\n",
    "dfVec['pos_pronoun1st']    = X_data_r[:,11]\n",
    "dfVec['pos_pronoun2nd']    = X_data_r[:,12]\n",
    "dfVec['pos_pronoun3rd']    = X_data_r[:,13]\n",
    "dfVec['pos_no'        ]    = X_data_r[:,14]\n",
    "dfVec['pos_not'       ]    = X_data_r[:,15]\n",
    "dfVec['pos_nor_neither']   = X_data_r[:,16]\n",
    "\n",
    "dfVec['neg_pronoun1st']    = X_data_r[:,17]\n",
    "dfVec['neg_pronoun2nd']    = X_data_r[:,18]\n",
    "dfVec['neg_pronoun3rd']    = X_data_r[:,19]\n",
    "dfVec['neg_no'        ]    = X_data_r[:,20]\n",
    "dfVec['neg_not'       ]    = X_data_r[:,21]\n",
    "dfVec['neg_nor_neither']   = X_data_r[:,22]\n",
    "\n",
    "dfVec['positive_words_2' ] = X_data_r[:,23]\n",
    "dfVec['negative_words_2' ] = X_data_r[:,24]\n",
    "dfVec['positive_words_3' ] = X_data_r[:,25]\n",
    "dfVec['negative_words_3' ] = X_data_r[:,26]\n",
    "dfVec['positive_words_sq'] = X_data_r[:,27]\n",
    "dfVec['negative_words_sq'] = X_data_r[:,28]\n",
    "\n",
    "abs(dfVec.corr()['Sentiment']).sort_values(ascending=False)"
   ]
  },
  {
   "cell_type": "markdown",
   "metadata": {},
   "source": [
    "## Data Set Split"
   ]
  },
  {
   "cell_type": "code",
   "execution_count": 80,
   "metadata": {},
   "outputs": [
    {
     "name": "stdout",
     "output_type": "stream",
     "text": [
      "(40000, 6818) (40000, 1)\n",
      "(5000, 6818) (5000, 1)\n",
      "(5000, 6818) (5000, 1)\n"
     ]
    }
   ],
   "source": [
    "X_data_train = X_data_r[:40000]\n",
    "y_data_train = y_data_r[:40000]\n",
    "\n",
    "X_data_valid = X_data_r[40000:45000]\n",
    "y_data_valid = y_data_r[40000:45000]\n",
    "\n",
    "X_data_test  = X_data_r[45000:]\n",
    "y_data_test  = y_data_r[45000:]\n",
    "\n",
    "print(X_data_train.shape, y_data_train.shape)\n",
    "print(X_data_valid.shape, y_data_valid.shape)\n",
    "print(X_data_test.shape, y_data_test.shape)"
   ]
  },
  {
   "cell_type": "markdown",
   "metadata": {},
   "source": [
    "We create a simple class to train the logistic regression with L1 and L2 regularization"
   ]
  },
  {
   "cell_type": "code",
   "execution_count": 81,
   "metadata": {},
   "outputs": [],
   "source": [
    "class log_regr:\n",
    "    \"\"\"\n",
    "        Logistic Regression with L1 and L2 regularization\n",
    "        \n",
    "        Arguments:\n",
    "                \n",
    "                W       : Weights\n",
    "                b       : Bias\n",
    "                alpha   : Learning Rate\n",
    "                l1_coef : Lambda 1\n",
    "                l2_coef : Lambda 2\n",
    "            \n",
    "    \"\"\"\n",
    "    \n",
    "    def __init__ (self, W, b, alpha, lambda_1, lambda_2):\n",
    "        self.W       = W\n",
    "        self.b       = b\n",
    "        self.alpha   = alpha\n",
    "        self.l1_coef = lambda_1\n",
    "        self.l2_coef = lambda_2\n",
    "        \n",
    "    def sigmoid(self,z):\n",
    "        \"\"\"\n",
    "            Activation function\n",
    "            \n",
    "            Arguments:  \n",
    "                z : W*X + b\n",
    "                \n",
    "            Returns:\n",
    "                sigmoid function of z.\n",
    "                \n",
    "        \"\"\"\n",
    "        return 1 / (1 + np.exp(-z))\n",
    "    \n",
    "    def pred(self, X):\n",
    "        \"\"\"\n",
    "            Given a X matrix as a input we return the prediction for\n",
    "            W and b.\n",
    "            \n",
    "            Args:\n",
    "                X : Matrix of features vectors for each review\n",
    "            \n",
    "            Returns:\n",
    "                Prediction without a threshold\n",
    "        \"\"\"\n",
    "        \n",
    "        return self.sigmoid(np.matmul(X, self.W) + self.b)\n",
    "    \n",
    "    def acc(self, X, y):\n",
    "        \"\"\"\n",
    "            Accuracy of a input and label\n",
    "            \n",
    "            Args:\n",
    "                X: Matrix of features vectors for each review\n",
    "                y: Labels of each Matrix\n",
    "            \n",
    "            Returns:\n",
    "                A number between 0 and 1.0\n",
    "        \"\"\"\n",
    "        pred_lim = self.pred(X) > 0.5\n",
    "        return np.mean(pred_lim == y)\n",
    "    \n",
    "    def cross_entropy(self, X, y):\n",
    "        \"\"\"\n",
    "            Cost function\n",
    "            \n",
    "                Cost = - [y * log(sigma(W*X + b)) + (1 - y) * log(1 - sigma(W*X + b))] \n",
    "                         + 0.5 * l2_ratio * ||w||^2_2 \n",
    "                         + l1_ratio * ||w||_1 \n",
    "            \n",
    "            Args:\n",
    "                X: Matrix of features vectors for each review\n",
    "                y: Labels of each Matrix\n",
    "                \n",
    "            Returns:\n",
    "                Cost using L1 and L2 regularizations \n",
    "                \n",
    "        \"\"\"\n",
    "        return - 0.5 * np.mean(np.multiply(y  , np.log(self.pred(X)     + 1e-8))\n",
    "                       + np.multiply(1-y, np.log(1 - self.pred(X) + 1e-8))) + \\\n",
    "                    0.5 * self.l2_coef * np.mean(np.square(self.W)) + \\\n",
    "                          self.l1_coef * np.mean(np.abs(self.W))\n",
    "    \n",
    "    def fit(self, X, y):\n",
    "        \"\"\"\n",
    "            function to minimize the Cost\n",
    "            \n",
    "            Args:\n",
    "                X: Matrix of features vectors for each review\n",
    "                y: Labels of each Matrix\n",
    "            \n",
    "        \"\"\"\n",
    "        \n",
    "        self.W = self.W - self.alpha * np.matmul(np.transpose(X), self.pred(X) - y) / X.shape[0] - \\\n",
    "                          self.alpha * self.l2_coef * self.W - \\\n",
    "                          self.alpha * self.l1_coef * np.multiply(self.W, 1 / np.abs(self.W))\n",
    "        self.b = self.b - self.alpha * np.mean(self.pred(X) - y)  "
   ]
  },
  {
   "cell_type": "markdown",
   "metadata": {},
   "source": [
    "## Training"
   ]
  },
  {
   "cell_type": "code",
   "execution_count": 222,
   "metadata": {},
   "outputs": [
    {
     "name": "stdout",
     "output_type": "stream",
     "text": [
      "     1 epoch ,   5268.56 docs/s, loss = 0.117847, loss_val = 0.222278, acc_val = 0.805, acc_test = 0.794\n",
      "     2 epoch ,   5287.82 docs/s, loss = 0.092759, loss_val = 0.197992, acc_val = 0.837, acc_test = 0.828\n",
      "     3 epoch ,   5268.61 docs/s, loss = 0.083856, loss_val = 0.188399, acc_val = 0.845, acc_test = 0.840\n",
      "     4 epoch ,   5308.17 docs/s, loss = 0.078875, loss_val = 0.184132, acc_val = 0.851, acc_test = 0.846\n",
      "     5 epoch ,   5271.11 docs/s, loss = 0.075611, loss_val = 0.182408, acc_val = 0.851, acc_test = 0.847\n",
      "     6 epoch ,   5261.12 docs/s, loss = 0.073280, loss_val = 0.182033, acc_val = 0.850, acc_test = 0.848\n",
      "     7 epoch ,   5286.84 docs/s, loss = 0.071519, loss_val = 0.182421, acc_val = 0.848, acc_test = 0.848\n",
      "     8 epoch ,   5295.08 docs/s, loss = 0.070138, loss_val = 0.183263, acc_val = 0.847, acc_test = 0.849\n",
      "     9 epoch ,   5318.65 docs/s, loss = 0.069023, loss_val = 0.184382, acc_val = 0.847, acc_test = 0.850\n",
      "    10 epoch ,   5260.90 docs/s, loss = 0.068103, loss_val = 0.185674, acc_val = 0.846, acc_test = 0.851\n",
      "    11 epoch ,   5252.30 docs/s, loss = 0.067329, loss_val = 0.187075, acc_val = 0.845, acc_test = 0.851\n"
     ]
    }
   ],
   "source": [
    "W_ = np.random.normal(0, 0.01, (FEATURES,1))\n",
    "b_ = 0.0\n",
    "lr = 2.3\n",
    "\n",
    "# lr = 2.3, l1,l2=1e-8, batch= 1, epoch=11\n",
    "\n",
    "lambda1 = 1e-8\n",
    "lambda2 = 1e-8\n",
    "\n",
    "regr  = log_regr(W_, b_, lr, lambda1, lambda2)\n",
    "\n",
    "BATCH  = 1\n",
    "STEP   = 1\n",
    "fmt    = '{:6d} epoch , {:9.2f} docs/s, loss = {:7.6f}, loss_val = {:7.6f}, acc_val = {:4.3f}, acc_test = {:4.3f}'\n",
    "NEPOCH = 11\n",
    "\n",
    "train_list    = []\n",
    "valid_list    = []\n",
    "acc_val_list  = []\n",
    "acc_test_list = []\n",
    "\n",
    "for i in range(NEPOCH):\n",
    "    loss_t  = 0.0\n",
    "    n_batch = X_data_train.shape[0]/BATCH\n",
    "    st = time.time()\n",
    "    for i_batch in range(0,X_data_train.shape[0], BATCH):\n",
    "        X_batch = X_data_train[i_batch:i_batch+BATCH]\n",
    "        y_batch = y_data_train[i_batch:i_batch+BATCH]\n",
    "        regr.fit(X_batch , y_batch)\n",
    "        loss_t  += regr.cross_entropy(X_batch, y_batch)\n",
    "    dt   = time.time() - st\n",
    "        \n",
    "    if (i+1)%STEP == 0:\n",
    "        train_list.append(loss_t/n_batch)\n",
    "        valid_list.append(regr.cross_entropy(X_data_valid, y_data_valid))\n",
    "        acc_val_list.append(regr.acc(X_data_valid, y_data_valid))\n",
    "        acc_test_list.append(regr.acc(X_data_test, y_data_test))\n",
    "        print(fmt.format((i+1), (X_data_train.shape[0])/dt,\n",
    "                                      loss_t/n_batch, \n",
    "                                      regr.cross_entropy(X_data_valid, y_data_valid),\n",
    "                                      regr.acc(X_data_valid, y_data_valid),\n",
    "                                      regr.acc(X_data_test, y_data_test)))\n"
   ]
  },
  {
   "cell_type": "code",
   "execution_count": 223,
   "metadata": {},
   "outputs": [
    {
     "data": {
      "image/png": "[encoded data removed]",
      "text/plain": [
       "<Figure size 1008x576 with 1 Axes>"
      ]
     },
     "metadata": {
      "needs_background": "light"
     },
     "output_type": "display_data"
    }
   ],
   "source": [
    "ep = np.arange(0, NEPOCH, 1)\n",
    "\n",
    "fig, ax = plt.subplots(figsize=(14, 8))\n",
    "l1 , l2   = ax.plot(ep, train_list, ep, valid_list)\n",
    "ax.set(xlabel='Epoch', ylabel='Cost', title='Logistic Regression with L1 and L2 regularization')\n",
    "ax.axis([-0.2, 10, 0.0, 0.5])\n",
    "plt.legend([l1, l2],[\"Training\",\"Validation\"])\n",
    "plt.show()"
   ]
  },
  {
   "cell_type": "code",
   "execution_count": 224,
   "metadata": {},
   "outputs": [
    {
     "data": {
      "image/png": "[encoded data removed]",
      "text/plain": [
       "<Figure size 1008x576 with 1 Axes>"
      ]
     },
     "metadata": {
      "needs_background": "light"
     },
     "output_type": "display_data"
    }
   ],
   "source": [
    "fig, ax = plt.subplots(figsize=(14, 8))\n",
    "\n",
    "l3, l4  = ax.plot(ep, acc_val_list, ep, acc_test_list)\n",
    "ax.set(xlabel='Epoch', ylabel='Accuracy', title='Logistic Regression with L1 and L2 regularization')\n",
    "\n",
    "plt.legend([l3, l4],[\"Valid Accuracy\",\"Test Accuracy\"])\n",
    "plt.show()"
   ]
  },
  {
   "cell_type": "markdown",
   "metadata": {},
   "source": [
    "## Testing"
   ]
  },
  {
   "cell_type": "code",
   "execution_count": 225,
   "metadata": {},
   "outputs": [
    {
     "name": "stdout",
     "output_type": "stream",
     "text": [
      "acc = 0.85100\n"
     ]
    }
   ],
   "source": [
    "print('acc = {:6.5f}'.format(regr.acc(X_data_test, y_data_test)))"
   ]
  },
  {
   "cell_type": "code",
   "execution_count": 226,
   "metadata": {},
   "outputs": [
    {
     "data": {
      "text/plain": [
       "True"
      ]
     },
     "execution_count": 226,
     "metadata": {},
     "output_type": "execute_result"
    }
   ],
   "source": [
    "example = ['I loved this movie']\n",
    "X = vect.transform(example)\n",
    "regr.pred(X)[0][0] > 0.5"
   ]
  },
  {
   "cell_type": "code",
   "execution_count": 228,
   "metadata": {},
   "outputs": [
    {
     "data": {
      "text/plain": [
       "False"
      ]
     },
     "execution_count": 228,
     "metadata": {},
     "output_type": "execute_result"
    }
   ],
   "source": [
    "example = ['I hate this movie']\n",
    "X = vect.transform(example)\n",
    "regr.pred(X)[0][0] > 0.5"
   ]
  }
 ],
 "metadata": {
  "kernelspec": {
   "display_name": "Python 3",
   "language": "python",
   "name": "python3"
  },
  "language_info": {
   "codemirror_mode": {
    "name": "ipython",
    "version": 3
   },
   "file_extension": ".py",
   "mimetype": "text/x-python",
   "name": "python",
   "nbconvert_exporter": "python",
   "pygments_lexer": "ipython3",
   "version": "3.5.2"
  }
 },
 "nbformat": 4,
 "nbformat_minor": 2
}
